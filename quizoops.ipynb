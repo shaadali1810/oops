{
 "cells": [
  {
   "cell_type": "code",
   "execution_count": 8,
   "id": "de92ca98-6dd9-497b-b72d-1d73c543bbd5",
   "metadata": {},
   "outputs": [],
   "source": [
    "#Python is an object oriented programming language.\n",
    "\n",
    "#Almost everything in Python is an object, with its properties and methods.\n",
    "\n",
    "#A Class is like an object constructor, or a \"blueprint\" for creating objects.\n",
    "class  myclass:\n",
    "    x = 5\n",
    "    \n"
   ]
  },
  {
   "cell_type": "code",
   "execution_count": 9,
   "id": "8fc64896-f237-44d2-82bf-836b366c578d",
   "metadata": {},
   "outputs": [
    {
     "name": "stdout",
     "output_type": "stream",
     "text": [
      "5\n"
     ]
    }
   ],
   "source": [
    "p1 = myclass()\n",
    "print(p1.x)"
   ]
  },
  {
   "cell_type": "code",
   "execution_count": 10,
   "id": "da12c4f9-70f1-43d4-9620-f720f70eb60d",
   "metadata": {},
   "outputs": [],
   "source": [
    "#2 Inheritance, Polymorphism, Encapsulation and Abstraction.\n"
   ]
  },
  {
   "cell_type": "code",
   "execution_count": 11,
   "id": "a7c84099-999c-487b-86b3-247b8d7b4470",
   "metadata": {},
   "outputs": [],
   "source": [
    "#3All classes have a function called __init__(), which is always executed when the class is being initiated."
   ]
  },
  {
   "cell_type": "code",
   "execution_count": 12,
   "id": "ce78839a-4f28-4663-b3ad-1cf515e43754",
   "metadata": {},
   "outputs": [],
   "source": [
    "class student:\n",
    "    def __init__(self,name , course,email_id):\n",
    "        self.name= name\n",
    "        self.course= course\n",
    "        self.email_id = email_id\n",
    "        \n",
    "    def return__details(self):\n",
    "        return self.name,self.course,self.email_id\n",
    "        \n",
    "        "
   ]
  },
  {
   "cell_type": "code",
   "execution_count": 14,
   "id": "ddb3586a-0fb7-4610-8edf-2dc269bbe060",
   "metadata": {},
   "outputs": [],
   "source": [
    "shaad = student(\"shaad\",\"btech\",\"shaadali00786@gmail.com\")"
   ]
  },
  {
   "cell_type": "code",
   "execution_count": 17,
   "id": "e191b4c6-90a3-4c7d-a8d2-b67fd139e966",
   "metadata": {},
   "outputs": [
    {
     "data": {
      "text/plain": [
       "('shaad', 'btech', 'shaadali00786@gmail.com')"
      ]
     },
     "execution_count": 17,
     "metadata": {},
     "output_type": "execute_result"
    }
   ],
   "source": [
    "shaad.return__details()"
   ]
  },
  {
   "cell_type": "code",
   "execution_count": 16,
   "id": "0346e56a-daa7-4c88-8376-1fe53b82e7bc",
   "metadata": {},
   "outputs": [
    {
     "data": {
      "text/plain": [
       "'shaadali00786@gmail.com'"
      ]
     },
     "execution_count": 16,
     "metadata": {},
     "output_type": "execute_result"
    }
   ],
   "source": [
    "shaad.email_id"
   ]
  },
  {
   "cell_type": "code",
   "execution_count": 18,
   "id": "8fbb11b1-7020-4bf8-b356-8be925471506",
   "metadata": {},
   "outputs": [],
   "source": [
    "#4\n",
    "#The self variable is used to represent the instance of the class which is often used in object-oriented programming. It works as a reference to the object. Python uses the self parameter to refer to instance attributes and methods of the class"
   ]
  },
  {
   "cell_type": "code",
   "execution_count": null,
   "id": "be53832b-ffc9-422d-9f4b-a89a7a8bd8c2",
   "metadata": {},
   "outputs": [],
   "source": [
    "#5"
   ]
  }
 ],
 "metadata": {
  "kernelspec": {
   "display_name": "Python 3 (ipykernel)",
   "language": "python",
   "name": "python3"
  },
  "language_info": {
   "codemirror_mode": {
    "name": "ipython",
    "version": 3
   },
   "file_extension": ".py",
   "mimetype": "text/x-python",
   "name": "python",
   "nbconvert_exporter": "python",
   "pygments_lexer": "ipython3",
   "version": "3.10.8"
  }
 },
 "nbformat": 4,
 "nbformat_minor": 5
}
